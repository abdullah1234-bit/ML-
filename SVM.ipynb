{
  "nbformat": 4,
  "nbformat_minor": 0,
  "metadata": {
    "colab": {
      "provenance": [],
      "authorship_tag": "ABX9TyOy0ScV94W5yOlQW3+Hb/lv",
      "include_colab_link": true
    },
    "kernelspec": {
      "name": "python3",
      "display_name": "Python 3"
    },
    "language_info": {
      "name": "python"
    }
  },
  "cells": [
    {
      "cell_type": "markdown",
      "metadata": {
        "id": "view-in-github",
        "colab_type": "text"
      },
      "source": [
        "<a href=\"https://colab.research.google.com/github/abdullah1234-bit/ML-/blob/main/SVM.ipynb\" target=\"_parent\"><img src=\"https://colab.research.google.com/assets/colab-badge.svg\" alt=\"Open In Colab\"/></a>"
      ]
    },
    {
      "cell_type": "markdown",
      "source": [
        "Train SVM classifier using sklearn digits dataset (i.e. from sklearn.datasets import load_digits) and then,\n",
        "\n",
        "Measure accuracy of your model using different kernels such as rbf and linear.\n",
        "Tune your model further using regularization and gamma parameters and try to come up with highest accurancy score\n",
        "Use 80% of samples as training data size"
      ],
      "metadata": {
        "id": "An6uTA7WwU3n"
      }
    },
    {
      "cell_type": "code",
      "execution_count": 1,
      "metadata": {
        "colab": {
          "base_uri": "https://localhost:8080/"
        },
        "id": "i41gueOxdtvO",
        "outputId": "72521541-841e-4e6a-bb51-a0a14a5ff419"
      },
      "outputs": [
        {
          "output_type": "stream",
          "name": "stdout",
          "text": [
            "Kernel: linear\n",
            "Best parameters: {'C': 0.1}\n",
            "Accuracy: 0.9778\n",
            "\n",
            "Kernel: rbf\n",
            "Best parameters: {'C': 10, 'gamma': 0.001}\n",
            "Accuracy: 0.9889\n",
            "\n",
            "Highest accuracy achieved: 0.9889\n",
            "Best parameters: {'C': 10, 'gamma': 0.001}\n"
          ]
        }
      ],
      "source": [
        "import numpy as np\n",
        "from sklearn import datasets\n",
        "from sklearn.model_selection import train_test_split, GridSearchCV\n",
        "from sklearn.svm import SVC\n",
        "from sklearn.metrics import accuracy_score\n",
        "\n",
        "# Load the digits dataset\n",
        "digits = datasets.load_digits()\n",
        "\n",
        "# Split the dataset into training (80%) and testing (20%) sets\n",
        "X_train, X_test, y_train, y_test = train_test_split(digits.data, digits.target, test_size=0.2, random_state=42)\n",
        "\n",
        "# Define a function to evaluate the SVM with different kernels\n",
        "def evaluate_svm(X_train, X_test, y_train, y_test):\n",
        "    kernels = ['linear', 'rbf']\n",
        "    best_accuracy = 0\n",
        "    best_params = {}\n",
        "\n",
        "    for kernel in kernels:\n",
        "        # Set up the parameter grid for tuning\n",
        "        if kernel == 'linear':\n",
        "            param_grid = {'C': [0.1, 1, 10, 100]}\n",
        "        else:  # RBF kernel\n",
        "            param_grid = {'C': [0.1, 1, 10, 100], 'gamma': [0.001, 0.01, 0.1, 1]}\n",
        "\n",
        "        # Initialize the SVC model\n",
        "        svc = SVC(kernel=kernel)\n",
        "\n",
        "        # Perform grid search with cross-validation\n",
        "        grid_search = GridSearchCV(svc, param_grid, cv=5)\n",
        "        grid_search.fit(X_train, y_train)\n",
        "\n",
        "        # Get the best model and its accuracy\n",
        "        best_model = grid_search.best_estimator_\n",
        "        y_pred = best_model.predict(X_test)\n",
        "        accuracy = accuracy_score(y_test, y_pred)\n",
        "\n",
        "        print(f\"Kernel: {kernel}\")\n",
        "        print(f\"Best parameters: {grid_search.best_params_}\")\n",
        "        print(f\"Accuracy: {accuracy:.4f}\\n\")\n",
        "\n",
        "        # Update the best accuracy and parameters if needed\n",
        "        if accuracy > best_accuracy:\n",
        "            best_accuracy = accuracy\n",
        "            best_params = grid_search.best_params_\n",
        "\n",
        "    return best_accuracy, best_params\n",
        "\n",
        "# Evaluate the SVM\n",
        "best_accuracy, best_params = evaluate_svm(X_train, X_test, y_train, y_test)\n",
        "\n",
        "print(f\"Highest accuracy achieved: {best_accuracy:.4f}\")\n",
        "print(f\"Best parameters: {best_params}\")"
      ]
    }
  ]
}